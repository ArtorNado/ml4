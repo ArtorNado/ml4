{
  "nbformat": 4,
  "nbformat_minor": 0,
  "metadata": {
    "colab": {
      "name": "genetic_algorithm.ipynb",
      "provenance": [],
      "authorship_tag": "ABX9TyP1tHg/V225qisnzoHFSsed"
    },
    "kernelspec": {
      "name": "python3",
      "display_name": "Python 3"
    },
    "language_info": {
      "name": "python"
    }
  },
  "cells": [
    {
      "cell_type": "code",
      "execution_count": 35,
      "metadata": {
        "id": "zfrXkzqEYX9a"
      },
      "outputs": [],
      "source": [
        "import random\n",
        "from functools import reduce  \n"
      ]
    },
    {
      "cell_type": "code",
      "source": [
        "def mutate(generation):\n",
        "    for individual in generation:\n",
        "        for i in range(x_variables_count):\n",
        "            individual[i] += random.randint(-2, 2)"
      ],
      "metadata": {
        "id": "pCDZ87oZkYRS"
      },
      "execution_count": 36,
      "outputs": []
    },
    {
      "cell_type": "code",
      "source": [
        "def get_result(params, individual):\n",
        "    return sum([params[i] * individual[i] for i in range(x_variables_count)])"
      ],
      "metadata": {
        "id": "hQ6ZjITHkZLs"
      },
      "execution_count": 37,
      "outputs": []
    },
    {
      "cell_type": "code",
      "source": [
        "def values_selection(generation, params, result, limit=4):\n",
        "    sorted_by_function = sorted(generation, key=lambda individual: abs(result - get_result(params, individual)))\n",
        "    return sorted_by_function[:limit]"
      ],
      "metadata": {
        "id": "JCOHJyQ9kZOS"
      },
      "execution_count": 38,
      "outputs": []
    },
    {
      "cell_type": "code",
      "source": [
        "def generate_child(parent1, parent2):\n",
        "    temp_array = [parent1, parent2]\n",
        "    child = []\n",
        "\n",
        "    for i in range(x_variables_count):\n",
        "        child.append(temp_array[random.randint(0, 1)][i])\n",
        "\n",
        "    return child"
      ],
      "metadata": {
        "id": "g0gNasKPkZQ6"
      },
      "execution_count": 39,
      "outputs": []
    },
    {
      "cell_type": "code",
      "source": [
        "def create_first_generation(range_of_values, childs_in_generation_size):\n",
        "    individuals = []\n",
        "\n",
        "    for i in range(childs_in_generation_size):\n",
        "        individual = [random.randint(*range_of_values) for _ in range(x_variables_count)]\n",
        "        individuals.append(individual)\n",
        "\n",
        "    return individuals  "
      ],
      "metadata": {
        "id": "Ou4mTzb-kZTR"
      },
      "execution_count": 40,
      "outputs": []
    },
    {
      "cell_type": "code",
      "source": [
        "def generate_new_generation(generation):\n",
        "    new_generation = []\n",
        "\n",
        "    while len(generation) > 1:\n",
        "        individual = generation.pop()\n",
        "        best_candidate_diff = -1\n",
        "        best_candidate = -1\n",
        "        for candidate in generation:\n",
        "            candidate_diff = 0\n",
        "            for i in range(x_variables_count):\n",
        "                candidate_diff += abs(individual[i] - candidate[i])\n",
        "                \n",
        "            if candidate_diff > best_candidate_diff:\n",
        "                best_candidate_diff = candidate_diff\n",
        "                best_candidate = candidate\n",
        "\n",
        "        generation.remove(best_candidate)\n",
        "\n",
        "        child_count = random.randint(2, 4)\n",
        "        for i in range(child_count):\n",
        "            child = generate_child(individual, best_candidate)\n",
        "            new_generation.append(child)\n",
        "\n",
        "    return new_generation"
      ],
      "metadata": {
        "id": "7FHElvrskZYp"
      },
      "execution_count": 41,
      "outputs": []
    },
    {
      "cell_type": "code",
      "source": [
        "if __name__ == '__main__':\n",
        "    solution = None\n",
        "    generation_limit = 2200\n",
        "    generation_number = 0\n",
        "\n",
        "    x_variables_count = 10\n",
        "    variable_value_range = [0, 20]\n",
        "    variable_values = [random.randint(*variable_value_range) for x in range(x_variables_count)]\n",
        "\n",
        "    solution_x_value_range = [0, 10]\n",
        "    possible_x_values = [random.randint(*solution_x_value_range) for x in range(x_variables_count)]\n",
        "\n",
        "    result = get_result(variable_values, possible_x_values)\n",
        "\n",
        "    print(\"Уравнение для решения: \", reduce(lambda x, y: x + \" + \" + y,\n",
        "                 [str(variable_values[i]) + \" * x\" + str(i+1) for i in range(x_variables_count)]) + \" = \" + str(result))\n",
        "\n",
        "    range_of_values=[1, 20]\n",
        "    childs_in_generation_size=4\n",
        "    current_generation = create_first_generation(range_of_values, childs_in_generation_size)\n",
        "\n",
        "    while True:\n",
        "        current_generation = generate_new_generation(current_generation)\n",
        "\n",
        "        mutate(current_generation)\n",
        "\n",
        "        current_generation = values_selection(current_generation, variable_values, result)\n",
        "\n",
        "        if get_result(variable_values, current_generation[0]) == result:\n",
        "            solution = current_generation[0]\n",
        "            break\n",
        "\n",
        "        generation_number += 1\n",
        "        if generation_number > generation_limit:\n",
        "            break\n",
        "\n",
        "    print('Решение уравнения:', solution)\n",
        "    print('Кол-во поколений:', generation_number)\n",
        "    print('Самое последнее поколение:', current_generation)"
      ],
      "metadata": {
        "colab": {
          "base_uri": "https://localhost:8080/"
        },
        "id": "hJEi4USMkh5W",
        "outputId": "03d71011-2844-49fb-a24b-55c07634d42c"
      },
      "execution_count": 42,
      "outputs": [
        {
          "output_type": "stream",
          "name": "stdout",
          "text": [
            "Уравнение для решения:  4 * x1 + 6 * x2 + 13 * x3 + 20 * x4 + 14 * x5 + 10 * x6 + 6 * x7 + 1 * x8 + 11 * x9 + 15 * x10 = 543\n",
            "Решение уравнения: [8, 26, 5, 24, -16, 15, -16, 46, -6, 0]\n",
            "Кол-во поколений: 112\n",
            "Самое последнее поколение: [[8, 26, 5, 24, -16, 15, -16, 46, -6, 0], [12, 12, 7, 22, -17, 16, -22, 46, -1, 5], [14, 21, 6, 22, -18, 17, -13, 45, -5, 3], [10, 22, 6, 22, -15, 16, -21, 45, -6, 6]]\n"
          ]
        }
      ]
    }
  ]
}